{
 "cells": [
  {
   "cell_type": "code",
   "execution_count": 5,
   "id": "fd5df052-cb1d-4292-ad60-169e769b970d",
   "metadata": {
    "tags": []
   },
   "outputs": [
    {
     "name": "stdout",
     "output_type": "stream",
     "text": [
      "dict_keys(['halo_A_id', 'halo_B_id', 'mass_A', 'mass_B', 'pos_A', 'pos_B', 'vel_A', 'vel_B', 'vmax_A', 'vmax_B'])\n"
     ]
    }
   ],
   "source": [
    "import matplotlib.pyplot as plt\n",
    "import numpy as np\n",
    "import h5py\n",
    "\n",
    "filename = '../data/pairs_AbacusSummit_base_c000_ph000_z0.100.hdf5'\n",
    "data = {}\n",
    "with h5py.File(filename, 'r') as f:\n",
    "    for k in f.keys():\n",
    "        data[k] = f[k][...]\n",
    "print(data.keys())\n",
    "\n",
    "v_a = data['vel_A'].copy()\n",
    "v_b = data['vel_B'].copy()\n",
    "pos_a = data['pos_A']\n",
    "pos_b = data['pos_B']\n",
    "m_a = data['mass_A'].copy()\n",
    "m_b = data['mass_B'].copy()\n",
    "vmax_a = data['vmax_A']\n",
    "vmax_b = data['vmax_B']\n"
   ]
  }
 ],
 "metadata": {
  "kernelspec": {
   "display_name": "DESI main",
   "language": "python",
   "name": "desi-main"
  },
  "language_info": {
   "codemirror_mode": {
    "name": "ipython",
    "version": 3
   },
   "file_extension": ".py",
   "mimetype": "text/x-python",
   "name": "python",
   "nbconvert_exporter": "python",
   "pygments_lexer": "ipython3",
   "version": "3.10.14"
  }
 },
 "nbformat": 4,
 "nbformat_minor": 5
}
